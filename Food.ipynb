{
  "nbformat": 4,
  "nbformat_minor": 0,
  "metadata": {
    "colab": {
      "name": "Food.ipynb",
      "provenance": []
    },
    "kernelspec": {
      "name": "python3",
      "display_name": "Python 3"
    },
    "language_info": {
      "name": "python"
    }
  },
  "cells": [
    {
      "cell_type": "code",
      "execution_count": 51,
      "metadata": {
        "id": "y2-YBJ5_BhKw"
      },
      "outputs": [],
      "source": [
        "import pandas as pd\n",
        "df = pd.read_csv(\"FoodBalanceSheets_E_Africa_NOFLAG.csv\", encoding='latin-1')"
      ]
    },
    {
      "cell_type": "code",
      "source": [
        "group_data = df.groupby('Item')"
      ],
      "metadata": {
        "id": "WJCEH8TGHJZZ"
      },
      "execution_count": 52,
      "outputs": []
    },
    {
      "cell_type": "code",
      "source": [
        "for Item, Item_df in group_data:\n",
        "  print(Item)"
      ],
      "metadata": {
        "colab": {
          "base_uri": "https://localhost:8080/"
        },
        "id": "0aEJYc70HdXH",
        "outputId": "25d17b66-74c3-4218-8be2-c9d8f4bd8d88"
      },
      "execution_count": 53,
      "outputs": [
        {
          "output_type": "stream",
          "name": "stdout",
          "text": [
            "Alcohol, Non-Food\n",
            "Alcoholic Beverages\n",
            "Animal Products\n",
            "Animal fats\n",
            "Apples and products\n",
            "Aquatic Animals, Others\n",
            "Aquatic Plants\n",
            "Aquatic Products, Other\n",
            "Bananas\n",
            "Barley and products\n",
            "Beans\n",
            "Beer\n",
            "Beverages, Alcoholic\n",
            "Beverages, Fermented\n",
            "Bovine Meat\n",
            "Butter, Ghee\n",
            "Cassava and products\n",
            "Cephalopods\n",
            "Cereals - Excluding Beer\n",
            "Cereals, Other\n",
            "Citrus, Other\n",
            "Cloves\n",
            "Cocoa Beans and products\n",
            "Coconut Oil\n",
            "Coconuts - Incl Copra\n",
            "Coffee and products\n",
            "Cottonseed\n",
            "Cottonseed Oil\n",
            "Cream\n",
            "Crustaceans\n",
            "Dates\n",
            "Demersal Fish\n",
            "Eggs\n",
            "Fats, Animals, Raw\n",
            "Fish, Body Oil\n",
            "Fish, Liver Oil\n",
            "Fish, Seafood\n",
            "Freshwater Fish\n",
            "Fruits - Excluding Wine\n",
            "Fruits, Other\n",
            "Grand Total\n",
            "Grapefruit and products\n",
            "Grapes and products (excl wine)\n",
            "Groundnut Oil\n",
            "Groundnuts (Shelled Eq)\n",
            "Honey\n",
            "Infant food\n",
            "Lemons, Limes and products\n",
            "Maize Germ Oil\n",
            "Maize and products\n",
            "Marine Fish, Other\n",
            "Meat\n",
            "Meat, Other\n",
            "Milk - Excluding Butter\n",
            "Millet and products\n",
            "Miscellaneous\n",
            "Molluscs, Other\n",
            "Mutton & Goat Meat\n",
            "Nuts and products\n",
            "Oats\n",
            "Offals\n",
            "Offals, Edible\n",
            "Oilcrops\n",
            "Oilcrops Oil, Other\n",
            "Oilcrops, Other\n",
            "Olive Oil\n",
            "Olives (including preserved)\n",
            "Onions\n",
            "Oranges, Mandarines\n",
            "Palm Oil\n",
            "Palm kernels\n",
            "Palmkernel Oil\n",
            "Peas\n",
            "Pelagic Fish\n",
            "Pepper\n",
            "Pigmeat\n",
            "Pimento\n",
            "Pineapples and products\n",
            "Plantains\n",
            "Population\n",
            "Potatoes and products\n",
            "Poultry Meat\n",
            "Pulses\n",
            "Pulses, Other and products\n",
            "Rape and Mustard Oil\n",
            "Rape and Mustardseed\n",
            "Rice and products\n",
            "Ricebran Oil\n",
            "Roots, Other\n",
            "Rye and products\n",
            "Sesame seed\n",
            "Sesameseed Oil\n",
            "Sorghum and products\n",
            "Soyabean Oil\n",
            "Soyabeans\n",
            "Spices\n",
            "Spices, Other\n",
            "Starchy Roots\n",
            "Stimulants\n",
            "Sugar & Sweeteners\n",
            "Sugar (Raw Equivalent)\n",
            "Sugar Crops\n",
            "Sugar beet\n",
            "Sugar cane\n",
            "Sugar non-centrifugal\n",
            "Sunflower seed\n",
            "Sunflowerseed Oil\n",
            "Sweet potatoes\n",
            "Sweeteners, Other\n",
            "Tea (including mate)\n",
            "Tomatoes and products\n",
            "Treenuts\n",
            "Vegetable Oils\n",
            "Vegetables\n",
            "Vegetables, Other\n",
            "Vegetal Products\n",
            "Wheat and products\n",
            "Wine\n",
            "Yams\n"
          ]
        }
      ]
    },
    {
      "cell_type": "code",
      "source": [
        "sum = group_data.get_group('Animal fats').sum()"
      ],
      "metadata": {
        "id": "PgrPAXnAHvOf"
      },
      "execution_count": 55,
      "outputs": []
    },
    {
      "cell_type": "code",
      "source": [
        "print(sum)"
      ],
      "metadata": {
        "colab": {
          "base_uri": "https://localhost:8080/"
        },
        "id": "6YM6si4hIQue",
        "outputId": "1c7046d0-23ae-45bd-fb98-7a668cc608e6"
      },
      "execution_count": 56,
      "outputs": [
        {
          "output_type": "stream",
          "name": "stdout",
          "text": [
            "Area Code                                                   85279\n",
            "Area            AlgeriaAlgeriaAlgeriaAlgeriaAlgeriaAlgeriaAlge...\n",
            "Item Code                                                 1882494\n",
            "Item            Animal fatsAnimal fatsAnimal fatsAnimal fatsAn...\n",
            "Element Code                                              2567303\n",
            "Element         ProductionImport QuantityStock VariationExport...\n",
            "Unit            1000 tonnes1000 tonnes1000 tonnes1000 tonnes10...\n",
            "Y2014                                                      209461\n",
            "Y2015                                                      200676\n",
            "Y2016                                                      183314\n",
            "Y2017                                                      269618\n",
            "Y2018                                                      269648\n",
            "dtype: object\n"
          ]
        }
      ]
    },
    {
      "cell_type": "code",
      "source": [
        "df.describe()"
      ],
      "metadata": {
        "colab": {
          "base_uri": "https://localhost:8080/",
          "height": 300
        },
        "id": "uzlZLhDeIgsD",
        "outputId": "e9e7e4ca-015c-43c9-8053-5d2ef534f58f"
      },
      "execution_count": 58,
      "outputs": [
        {
          "output_type": "execute_result",
          "data": {
            "text/html": [
              "\n",
              "  <div id=\"df-f8e2575d-c626-416d-93b3-0a35ba001013\">\n",
              "    <div class=\"colab-df-container\">\n",
              "      <div>\n",
              "<style scoped>\n",
              "    .dataframe tbody tr th:only-of-type {\n",
              "        vertical-align: middle;\n",
              "    }\n",
              "\n",
              "    .dataframe tbody tr th {\n",
              "        vertical-align: top;\n",
              "    }\n",
              "\n",
              "    .dataframe thead th {\n",
              "        text-align: right;\n",
              "    }\n",
              "</style>\n",
              "<table border=\"1\" class=\"dataframe\">\n",
              "  <thead>\n",
              "    <tr style=\"text-align: right;\">\n",
              "      <th></th>\n",
              "      <th>Area Code</th>\n",
              "      <th>Item Code</th>\n",
              "      <th>Element Code</th>\n",
              "      <th>Y2014</th>\n",
              "      <th>Y2015</th>\n",
              "      <th>Y2016</th>\n",
              "      <th>Y2017</th>\n",
              "      <th>Y2018</th>\n",
              "    </tr>\n",
              "  </thead>\n",
              "  <tbody>\n",
              "    <tr>\n",
              "      <th>count</th>\n",
              "      <td>60943.000000</td>\n",
              "      <td>60943.000000</td>\n",
              "      <td>60943.000000</td>\n",
              "      <td>59354.000000</td>\n",
              "      <td>59395.000000</td>\n",
              "      <td>59408.000000</td>\n",
              "      <td>59437.000000</td>\n",
              "      <td>59507.000000</td>\n",
              "    </tr>\n",
              "    <tr>\n",
              "      <th>mean</th>\n",
              "      <td>134.265576</td>\n",
              "      <td>2687.176706</td>\n",
              "      <td>3814.856456</td>\n",
              "      <td>134.196282</td>\n",
              "      <td>135.235966</td>\n",
              "      <td>136.555222</td>\n",
              "      <td>140.917765</td>\n",
              "      <td>143.758381</td>\n",
              "    </tr>\n",
              "    <tr>\n",
              "      <th>std</th>\n",
              "      <td>72.605709</td>\n",
              "      <td>146.055739</td>\n",
              "      <td>2212.007033</td>\n",
              "      <td>1567.663696</td>\n",
              "      <td>1603.403984</td>\n",
              "      <td>1640.007194</td>\n",
              "      <td>1671.862359</td>\n",
              "      <td>1710.782658</td>\n",
              "    </tr>\n",
              "    <tr>\n",
              "      <th>min</th>\n",
              "      <td>4.000000</td>\n",
              "      <td>2501.000000</td>\n",
              "      <td>511.000000</td>\n",
              "      <td>-1796.000000</td>\n",
              "      <td>-3161.000000</td>\n",
              "      <td>-3225.000000</td>\n",
              "      <td>-1582.000000</td>\n",
              "      <td>-3396.000000</td>\n",
              "    </tr>\n",
              "    <tr>\n",
              "      <th>25%</th>\n",
              "      <td>74.000000</td>\n",
              "      <td>2562.000000</td>\n",
              "      <td>684.000000</td>\n",
              "      <td>0.000000</td>\n",
              "      <td>0.000000</td>\n",
              "      <td>0.000000</td>\n",
              "      <td>0.000000</td>\n",
              "      <td>0.000000</td>\n",
              "    </tr>\n",
              "    <tr>\n",
              "      <th>50%</th>\n",
              "      <td>136.000000</td>\n",
              "      <td>2630.000000</td>\n",
              "      <td>5142.000000</td>\n",
              "      <td>0.090000</td>\n",
              "      <td>0.080000</td>\n",
              "      <td>0.080000</td>\n",
              "      <td>0.100000</td>\n",
              "      <td>0.070000</td>\n",
              "    </tr>\n",
              "    <tr>\n",
              "      <th>75%</th>\n",
              "      <td>195.000000</td>\n",
              "      <td>2775.000000</td>\n",
              "      <td>5511.000000</td>\n",
              "      <td>8.340000</td>\n",
              "      <td>8.460000</td>\n",
              "      <td>8.430000</td>\n",
              "      <td>9.000000</td>\n",
              "      <td>9.000000</td>\n",
              "    </tr>\n",
              "    <tr>\n",
              "      <th>max</th>\n",
              "      <td>276.000000</td>\n",
              "      <td>2961.000000</td>\n",
              "      <td>5911.000000</td>\n",
              "      <td>176405.000000</td>\n",
              "      <td>181137.000000</td>\n",
              "      <td>185960.000000</td>\n",
              "      <td>190873.000000</td>\n",
              "      <td>195875.000000</td>\n",
              "    </tr>\n",
              "  </tbody>\n",
              "</table>\n",
              "</div>\n",
              "      <button class=\"colab-df-convert\" onclick=\"convertToInteractive('df-f8e2575d-c626-416d-93b3-0a35ba001013')\"\n",
              "              title=\"Convert this dataframe to an interactive table.\"\n",
              "              style=\"display:none;\">\n",
              "        \n",
              "  <svg xmlns=\"http://www.w3.org/2000/svg\" height=\"24px\"viewBox=\"0 0 24 24\"\n",
              "       width=\"24px\">\n",
              "    <path d=\"M0 0h24v24H0V0z\" fill=\"none\"/>\n",
              "    <path d=\"M18.56 5.44l.94 2.06.94-2.06 2.06-.94-2.06-.94-.94-2.06-.94 2.06-2.06.94zm-11 1L8.5 8.5l.94-2.06 2.06-.94-2.06-.94L8.5 2.5l-.94 2.06-2.06.94zm10 10l.94 2.06.94-2.06 2.06-.94-2.06-.94-.94-2.06-.94 2.06-2.06.94z\"/><path d=\"M17.41 7.96l-1.37-1.37c-.4-.4-.92-.59-1.43-.59-.52 0-1.04.2-1.43.59L10.3 9.45l-7.72 7.72c-.78.78-.78 2.05 0 2.83L4 21.41c.39.39.9.59 1.41.59.51 0 1.02-.2 1.41-.59l7.78-7.78 2.81-2.81c.8-.78.8-2.07 0-2.86zM5.41 20L4 18.59l7.72-7.72 1.47 1.35L5.41 20z\"/>\n",
              "  </svg>\n",
              "      </button>\n",
              "      \n",
              "  <style>\n",
              "    .colab-df-container {\n",
              "      display:flex;\n",
              "      flex-wrap:wrap;\n",
              "      gap: 12px;\n",
              "    }\n",
              "\n",
              "    .colab-df-convert {\n",
              "      background-color: #E8F0FE;\n",
              "      border: none;\n",
              "      border-radius: 50%;\n",
              "      cursor: pointer;\n",
              "      display: none;\n",
              "      fill: #1967D2;\n",
              "      height: 32px;\n",
              "      padding: 0 0 0 0;\n",
              "      width: 32px;\n",
              "    }\n",
              "\n",
              "    .colab-df-convert:hover {\n",
              "      background-color: #E2EBFA;\n",
              "      box-shadow: 0px 1px 2px rgba(60, 64, 67, 0.3), 0px 1px 3px 1px rgba(60, 64, 67, 0.15);\n",
              "      fill: #174EA6;\n",
              "    }\n",
              "\n",
              "    [theme=dark] .colab-df-convert {\n",
              "      background-color: #3B4455;\n",
              "      fill: #D2E3FC;\n",
              "    }\n",
              "\n",
              "    [theme=dark] .colab-df-convert:hover {\n",
              "      background-color: #434B5C;\n",
              "      box-shadow: 0px 1px 3px 1px rgba(0, 0, 0, 0.15);\n",
              "      filter: drop-shadow(0px 1px 2px rgba(0, 0, 0, 0.3));\n",
              "      fill: #FFFFFF;\n",
              "    }\n",
              "  </style>\n",
              "\n",
              "      <script>\n",
              "        const buttonEl =\n",
              "          document.querySelector('#df-f8e2575d-c626-416d-93b3-0a35ba001013 button.colab-df-convert');\n",
              "        buttonEl.style.display =\n",
              "          google.colab.kernel.accessAllowed ? 'block' : 'none';\n",
              "\n",
              "        async function convertToInteractive(key) {\n",
              "          const element = document.querySelector('#df-f8e2575d-c626-416d-93b3-0a35ba001013');\n",
              "          const dataTable =\n",
              "            await google.colab.kernel.invokeFunction('convertToInteractive',\n",
              "                                                     [key], {});\n",
              "          if (!dataTable) return;\n",
              "\n",
              "          const docLinkHtml = 'Like what you see? Visit the ' +\n",
              "            '<a target=\"_blank\" href=https://colab.research.google.com/notebooks/data_table.ipynb>data table notebook</a>'\n",
              "            + ' to learn more about interactive tables.';\n",
              "          element.innerHTML = '';\n",
              "          dataTable['output_type'] = 'display_data';\n",
              "          await google.colab.output.renderOutput(dataTable, element);\n",
              "          const docLink = document.createElement('div');\n",
              "          docLink.innerHTML = docLinkHtml;\n",
              "          element.appendChild(docLink);\n",
              "        }\n",
              "      </script>\n",
              "    </div>\n",
              "  </div>\n",
              "  "
            ],
            "text/plain": [
              "          Area Code     Item Code  ...          Y2017          Y2018\n",
              "count  60943.000000  60943.000000  ...   59437.000000   59507.000000\n",
              "mean     134.265576   2687.176706  ...     140.917765     143.758381\n",
              "std       72.605709    146.055739  ...    1671.862359    1710.782658\n",
              "min        4.000000   2501.000000  ...   -1582.000000   -3396.000000\n",
              "25%       74.000000   2562.000000  ...       0.000000       0.000000\n",
              "50%      136.000000   2630.000000  ...       0.100000       0.070000\n",
              "75%      195.000000   2775.000000  ...       9.000000       9.000000\n",
              "max      276.000000   2961.000000  ...  190873.000000  195875.000000\n",
              "\n",
              "[8 rows x 8 columns]"
            ]
          },
          "metadata": {},
          "execution_count": 58
        }
      ]
    },
    {
      "cell_type": "code",
      "source": [
        "df.isnull().sum()"
      ],
      "metadata": {
        "colab": {
          "base_uri": "https://localhost:8080/"
        },
        "id": "n_wQY4QQIz8k",
        "outputId": "c01f26c5-140c-486b-9911-50ab447dca28"
      },
      "execution_count": 59,
      "outputs": [
        {
          "output_type": "execute_result",
          "data": {
            "text/plain": [
              "Area Code          0\n",
              "Area               0\n",
              "Item Code          0\n",
              "Item               0\n",
              "Element Code       0\n",
              "Element            0\n",
              "Unit               0\n",
              "Y2014           1589\n",
              "Y2015           1548\n",
              "Y2016           1535\n",
              "Y2017           1506\n",
              "Y2018           1436\n",
              "dtype: int64"
            ]
          },
          "metadata": {},
          "execution_count": 59
        }
      ]
    },
    {
      "cell_type": "code",
      "source": [
        "df.shape"
      ],
      "metadata": {
        "colab": {
          "base_uri": "https://localhost:8080/"
        },
        "id": "jod_CePAI_Oj",
        "outputId": "382bbd9b-7aa5-4349-d77a-9a1609218750"
      },
      "execution_count": 60,
      "outputs": [
        {
          "output_type": "execute_result",
          "data": {
            "text/plain": [
              "(60943, 12)"
            ]
          },
          "metadata": {},
          "execution_count": 60
        }
      ]
    },
    {
      "cell_type": "code",
      "source": [
        "percentage_of_missing_2016  = (1589/60943)*100"
      ],
      "metadata": {
        "id": "bx0iUw-aJCUj"
      },
      "execution_count": 61,
      "outputs": []
    },
    {
      "cell_type": "code",
      "source": [
        "print(percentage_of_missing_2016)"
      ],
      "metadata": {
        "colab": {
          "base_uri": "https://localhost:8080/"
        },
        "id": "JE_GgT8pJR_T",
        "outputId": "f9485869-635b-44e6-d78c-2f3ef2cb30a1"
      },
      "execution_count": 62,
      "outputs": [
        {
          "output_type": "stream",
          "name": "stdout",
          "text": [
            "2.6073544131401474\n"
          ]
        }
      ]
    },
    {
      "cell_type": "code",
      "source": [
        "cor = df.corr()"
      ],
      "metadata": {
        "id": "EDF6Un7jJ2rD"
      },
      "execution_count": 63,
      "outputs": []
    },
    {
      "cell_type": "code",
      "source": [
        "print(cor)"
      ],
      "metadata": {
        "colab": {
          "base_uri": "https://localhost:8080/"
        },
        "id": "TBqjB-DGJ-RJ",
        "outputId": "33bc58e2-7db1-4fee-e3d5-5926baabfea4"
      },
      "execution_count": 64,
      "outputs": [
        {
          "output_type": "stream",
          "name": "stdout",
          "text": [
            "              Area Code  Item Code  Element Code  ...     Y2016     Y2017     Y2018\n",
            "Area Code      1.000000  -0.005159     -0.000209  ...  0.005247  0.005006  0.005665\n",
            "Item Code     -0.005159   1.000000     -0.024683  ...  0.020109  0.021494  0.021314\n",
            "Element Code  -0.000209  -0.024683      1.000000  ...  0.023444  0.024254  0.024279\n",
            "Y2014          0.006164   0.021722      0.024457  ...  0.996081  0.995230  0.994872\n",
            "Y2015          0.005472   0.020857      0.023889  ...  0.995739  0.988048  0.988208\n",
            "Y2016          0.005247   0.020109      0.023444  ...  1.000000  0.992785  0.992757\n",
            "Y2017          0.005006   0.021494      0.024254  ...  0.992785  1.000000  0.998103\n",
            "Y2018          0.005665   0.021314      0.024279  ...  0.992757  0.998103  1.000000\n",
            "\n",
            "[8 rows x 8 columns]\n"
          ]
        }
      ]
    },
    {
      "cell_type": "code",
      "source": [
        "import seaborn as sns\n",
        "import matplotlib.pyplot as plt\n"
      ],
      "metadata": {
        "id": "oOeR5O1zKehw"
      },
      "execution_count": 65,
      "outputs": []
    },
    {
      "cell_type": "code",
      "source": [
        "sns.heatmap(cor, annot=True, cmap=plt.cm.CMRmap_r)\n",
        "plt.show()"
      ],
      "metadata": {
        "colab": {
          "base_uri": "https://localhost:8080/",
          "height": 329
        },
        "id": "r80p7jD6KMC5",
        "outputId": "12967700-6728-4a75-bf76-b5845b2644f3"
      },
      "execution_count": 66,
      "outputs": [
        {
          "output_type": "display_data",
          "data": {
            "image/png": "[encoded data removed]",
            "text/plain": [
              "<Figure size 432x288 with 2 Axes>"
            ]
          },
          "metadata": {
            "needs_background": "light"
          }
        }
      ]
    },
    {
      "cell_type": "markdown",
      "source": [
        "### Q15\n"
      ],
      "metadata": {
        "id": "pE5j24BgLSYG"
      }
    },
    {
      "cell_type": "code",
      "source": [
        "Import_sum =  df.groupby('Element').get_group('Import Quantity').sum()"
      ],
      "metadata": {
        "id": "BteuThNdLWqO"
      },
      "execution_count": 67,
      "outputs": []
    },
    {
      "cell_type": "code",
      "source": [
        "print(Import_sum)"
      ],
      "metadata": {
        "colab": {
          "base_uri": "https://localhost:8080/"
        },
        "id": "8nvdK4oML5KP",
        "outputId": "4d3d803d-c28b-49e9-a0db-53849e4cad71"
      },
      "execution_count": 68,
      "outputs": [
        {
          "output_type": "stream",
          "name": "stdout",
          "text": [
            "Area Code                                                  688174\n",
            "Area            AlgeriaAlgeriaAlgeriaAlgeriaAlgeriaAlgeriaAlge...\n",
            "Item Code                                                13795966\n",
            "Item            Cereals - Excluding BeerWheat and productsRice...\n",
            "Element Code                                             28834929\n",
            "Element         Import QuantityImport QuantityImport QuantityI...\n",
            "Unit            1000 tonnes1000 tonnes1000 tonnes1000 tonnes10...\n",
            "Y2014                                                      274144\n",
            "Y2015                                                      267018\n",
            "Y2016                                                      286583\n",
            "Y2017                                                      294559\n",
            "Y2018                                                      287997\n",
            "dtype: object\n"
          ]
        }
      ]
    },
    {
      "cell_type": "markdown",
      "source": [
        "### Q16\n"
      ],
      "metadata": {
        "id": "1gfeEa5oMOVC"
      }
    },
    {
      "cell_type": "code",
      "source": [
        "Production_sum =  df.groupby('Element').get_group('Production').sum()\n",
        "print(Production_sum)"
      ],
      "metadata": {
        "colab": {
          "base_uri": "https://localhost:8080/"
        },
        "id": "1uW6nO8UMTMM",
        "outputId": "13a86bf3-304f-4623-9691-d90ee02e660d"
      },
      "execution_count": 69,
      "outputs": [
        {
          "output_type": "stream",
          "name": "stdout",
          "text": [
            "Area Code                                                  526751\n",
            "Area            AlgeriaAlgeriaAlgeriaAlgeriaAlgeriaAlgeriaAlge...\n",
            "Item Code                                                10450053\n",
            "Item            Cereals - Excluding BeerWheat and productsRice...\n",
            "Element Code                                             21388191\n",
            "Element         ProductionProductionProductionProductionProduc...\n",
            "Unit            1000 tonnes1000 tonnes1000 tonnes1000 tonnes10...\n",
            "Y2014                                                 1.93129e+06\n",
            "Y2015                                                 1.94702e+06\n",
            "Y2016                                                 1.94354e+06\n",
            "Y2017                                                 2.03006e+06\n",
            "Y2018                                                 2.07507e+06\n",
            "dtype: object\n"
          ]
        }
      ]
    },
    {
      "cell_type": "code",
      "source": [
        "Import_sum =  df.groupby('Element').get_group('Import Quantity').sum()\n",
        "print(Import_sum)"
      ],
      "metadata": {
        "colab": {
          "base_uri": "https://localhost:8080/"
        },
        "outputId": "2fb2c016-edf7-4b0e-d93b-d9ca8af71b5a",
        "id": "FCu5xaYGOHqn"
      },
      "execution_count": 70,
      "outputs": [
        {
          "output_type": "stream",
          "name": "stdout",
          "text": [
            "Area Code                                                  688174\n",
            "Area            AlgeriaAlgeriaAlgeriaAlgeriaAlgeriaAlgeriaAlge...\n",
            "Item Code                                                13795966\n",
            "Item            Cereals - Excluding BeerWheat and productsRice...\n",
            "Element Code                                             28834929\n",
            "Element         Import QuantityImport QuantityImport QuantityI...\n",
            "Unit            1000 tonnes1000 tonnes1000 tonnes1000 tonnes10...\n",
            "Y2014                                                      274144\n",
            "Y2015                                                      267018\n",
            "Y2016                                                      286583\n",
            "Y2017                                                      294559\n",
            "Y2018                                                      287997\n",
            "dtype: object\n"
          ]
        }
      ]
    },
    {
      "cell_type": "code",
      "source": [
        "Import_count =  df.groupby('Element').get_group('Import Quantity').count()\n",
        "print(Import_count)"
      ],
      "metadata": {
        "colab": {
          "base_uri": "https://localhost:8080/"
        },
        "outputId": "b4edb4c9-68c3-4040-8984-985c4a1ad4fd",
        "id": "IiBfFHfDOtSu"
      },
      "execution_count": 71,
      "outputs": [
        {
          "output_type": "stream",
          "name": "stdout",
          "text": [
            "Area Code       5139\n",
            "Area            5139\n",
            "Item Code       5139\n",
            "Item            5139\n",
            "Element Code    5139\n",
            "Element         5139\n",
            "Unit            5139\n",
            "Y2014           4919\n",
            "Y2015           4911\n",
            "Y2016           4908\n",
            "Y2017           4929\n",
            "Y2018           4945\n",
            "dtype: int64\n"
          ]
        }
      ]
    },
    {
      "cell_type": "code",
      "source": [
        "df['Area'].unique().size"
      ],
      "metadata": {
        "colab": {
          "base_uri": "https://localhost:8080/"
        },
        "id": "vKgzMiqoPA0E",
        "outputId": "e747c256-5194-431f-ffee-b761da201fa6"
      },
      "execution_count": 72,
      "outputs": [
        {
          "output_type": "execute_result",
          "data": {
            "text/plain": [
              "49"
            ]
          },
          "metadata": {},
          "execution_count": 72
        }
      ]
    }
  ]
}